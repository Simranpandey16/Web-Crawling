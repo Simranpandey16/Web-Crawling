{
 "cells": [
  {
   "cell_type": "code",
   "execution_count": null,
   "metadata": {},
   "outputs": [],
   "source": [
    "import bs4\n",
    "import urllib.request as url\n",
    "path=\"https://www.indiatoday.in/news.html\"\n",
    "http_response=url.urlopen(path)\n",
    "webpage=bs4.BeautifulSoup(http_response,\"lxml\")\n",
    "data=input(\"enter the type of news you want to read: \")\n",
    "if data== \"movies\":\n",
    "    h3=webpage.find('div',id=\"card_1206533_itg-news-section-2\")\n",
    "    news=h3.findAll('p')\n",
    "    for i in range(len(news)):\n",
    "        title=news[i][\"title\"]\n",
    "        print(\"{} {}\".format(i+1,title))\n",
    "        print()\n",
    "elif data==\"sports\":\n",
    "    h3=webpage.find('div',id=\"card_1206550_itg-news-section-4\")\n",
    "    news=h3.findAll('p')\n",
    "    for i in range(len(news)):\n",
    "        title=news[i][\"title\"]\n",
    "        print(\"{} {}\".format(i+1,title))\n",
    "        print()\n",
    "elif data==\"election\":\n",
    "    h3=webpage.find('div',id=\"card_1206719_itg-news-section-3\")\n",
    "    news=h3.findAll('p')\n",
    "    for i in range(len(news)):\n",
    "        title=news[i][\"title\"]\n",
    "        print(\"{} {}\".format(i+1,title))\n",
    "        print()\n",
    "elif data==\"technology\":\n",
    "    h3=webpage.find('div',id=\"card_1206688_itg-news-section-6\")\n",
    "    news=h3.findAll('p')\n",
    "    for i in range(len(news)):\n",
    "        title=news[i][\"title\"]\n",
    "        print(\"{} {}\".format(i+1,title))\n",
    "        print()\n",
    "elif data==\"trending\":\n",
    "    h3=webpage.find('div',id=\"card_1797650_itg-news-section-5\")\n",
    "    news=h3.findAll('p')\n",
    "    for i in range(len(news)):\n",
    "        title=news[i][\"title\"]\n",
    "        print(\"{} {}\".format(i+1,title))\n",
    "        print()\n",
    "else:\n",
    "    print(\"invalid news\")"
   ]
  },
  {
   "cell_type": "code",
   "execution_count": null,
   "metadata": {},
   "outputs": [],
   "source": []
  }
 ],
 "metadata": {
  "kernelspec": {
   "display_name": "Python 3",
   "language": "python",
   "name": "python3"
  },
  "language_info": {
   "codemirror_mode": {
    "name": "ipython",
    "version": 3
   },
   "file_extension": ".py",
   "mimetype": "text/x-python",
   "name": "python",
   "nbconvert_exporter": "python",
   "pygments_lexer": "ipython3",
   "version": "3.7.3"
  }
 },
 "nbformat": 4,
 "nbformat_minor": 2
}
